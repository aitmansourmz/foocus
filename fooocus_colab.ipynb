!pip install pygit2==1.12.2
%cd /content
!git clone https://github.com/aitmansourmz/foocus
%cd /content/foocus
!python entry_with_update.py --share
