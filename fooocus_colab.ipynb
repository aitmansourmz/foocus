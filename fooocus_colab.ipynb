!pip install pygit2==1.12.2
%cd /content
!git clone https://github.com/aitmansourmz/foocus.git
%cd /content/foocus
!python entry_with_update.py --share
